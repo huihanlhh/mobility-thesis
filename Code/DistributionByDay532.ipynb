{
 "cells": [
  {
   "cell_type": "code",
   "execution_count": 1,
   "metadata": {},
   "outputs": [],
   "source": [
    "from bjPOI import read_csv\n",
    "from datetime import datetime\n",
    "from datetime import date as dt\n",
    "import numpy as np\n",
    "import matplotlib.pyplot as plt\n",
    "import math\n",
    "\n",
    "MATCHING_DISTANCE = 0.1\n",
    "MATCHING_TIME_FRAME = 3\n",
    "\n",
    "def matchTime(t1, t2):\n",
    "\treturn abs(datetime.fromtimestamp(t1).hour - datetime.fromtimestamp(t2).hour)<= MATCHING_TIME_FRAME # time difference no greater than 3 hours\n",
    "\t\n",
    "def match(gps1, gps2):\n",
    "    lat1, lon1, t1 = gps1\n",
    "    lat2, lon2, t2 = gps2\n",
    "    coord1 = (lat1,lon1)\n",
    "    coord2 = (lat2,lon2)\n",
    "\n",
    "    r = 6371\n",
    "    dlat = (lat2-lat1) * (math.pi/180)\n",
    "    dlon = (lon2-lon1) * (math.pi/180)\n",
    "\n",
    "    a = math.sin(dlat/2) * math.sin(dlat/2) + math.cos(lat1 * (math.pi/180)) * math.cos(lat2 * (math.pi/180)) * math.sin(dlon/2) * math.sin(dlon/2)\n",
    "\n",
    "    c = 2 * math.atan2(math.sqrt(a), math.sqrt(1-a))\n",
    "    d = r * c\n",
    "\n",
    "    return d <= MATCHING_DISTANCE and matchTime(t1, t2)\n",
    "\n",
    "def trajectory_by_day(fname):\n",
    "\ttrajectories = {}\n",
    "\tfor i in range(1,8):\n",
    "\t\ttrajectories[i] = []\n",
    "\ttrajectory = read_csv(fname)\n",
    "\tprint(\"Read CSV file\")\n",
    "\tstart = False\n",
    "\tlast_date = dt.min\n",
    "\tlast_day = 0\n",
    "\tfor data_tup in trajectory:\n",
    "\t\tday = datetime.fromtimestamp(data_tup[2]).isoweekday()\n",
    "\t\tif day == last_day:\n",
    "\t\t\tdate = dt.fromtimestamp(data_tup[2])\n",
    "\t\t\tif date == last_date:\n",
    "\t\t\t\ttrajectories[day][-1].append(data_tup)\n",
    "\t\t\telse:\n",
    "\t\t\t\tone_trajectory = [data_tup]\n",
    "\t\t\t\ttrajectories[day].append(one_trajectory)\n",
    "\t\t\t\tlast_date = date\n",
    "\t\telse:\n",
    "\t\t\tdate = dt.fromtimestamp(data_tup[2])\n",
    "\t\t\tone_trajectory = [data_tup]\n",
    "\t\t\ttrajectories[day].append(one_trajectory)\n",
    "\t\t\tlast_date = date\n",
    "\t\t\tlast_day = day\n",
    "\n",
    "\treturn trajectories\n",
    "\n",
    "# gap -2, match +5, mismatch -3\n",
    "def EDR(t1, t2, mt, ms, gap):\n",
    "\tm, n = len(t1), len(t2)\n",
    "\tmatcher = [[0 for x in range(n+1)] for y in range(m+1)]\n",
    "\tbacktrack = [[(-1,-1) for x in range(n+1)] for y in range(m+1)]\n",
    "\tmaxscore = 0\n",
    "\tendposition = (0, 0)\n",
    "\tfor i in range(1, m+1):\n",
    "\t\tfor j in range(1, n+1):\n",
    "\t\t\tgapAbove = matcher[i-1][j]+gap\n",
    "\t\t\tgapLeft = matcher[i][j-1]+gap\n",
    "\t\t\tmatching = matcher[i-1][j-1] + (mt if match(t1[i-1],t2[j-1]) else ms)\n",
    "\t\t\tscore = max(0, max(gapAbove, gapLeft, matching)) # if negative, convert to 0\n",
    "\t\t\tmatcher[i][j] = score\n",
    "\n",
    "\t\t\t# set backtrack table\n",
    "\t\t\tif score == matching:\n",
    "\t\t\t\tbacktrack[i][j] = (i-1, j-1)\n",
    "\t\t\telif score == gapAbove:\n",
    "\t\t\t\tbacktrack[i][j] = (i-1, j)\n",
    "\t\t\telif score == gapLeft:\n",
    "\t\t\t\tbacktrack[i][j] = (i, j-1)\n",
    "\t\t\telse:\n",
    "\t\t\t\tbacktrack[i][j] = (-1, -1)\n",
    "\n",
    "\t\t\t# update maxscore\n",
    "\t\t\tif score > maxscore:\n",
    "\t\t\t\tmaxscore = score\n",
    "\t\t\t\tendposition = (i, j)\n",
    "\n",
    "\ttempi, tempj = endposition\n",
    "\twhile backtrack[tempi][tempj] != (-1, -1):\n",
    "\t\ttempi, tempj = backtrack[tempi][tempj]\n",
    "\n",
    "\t# calculate time duration of both subtrajectories\n",
    "\tstart1 = datetime.fromtimestamp(t1[tempi][2]).isoformat()\n",
    "\tend1 =datetime.fromtimestamp(t1[endposition[0]-1][2]).isoformat()\n",
    "\tstart2 = datetime.fromtimestamp(t2[tempj][2]).isoformat()\n",
    "\tend2 =datetime.fromtimestamp(t2[endposition[1]-1][2]).isoformat()\n",
    "\ttimeduration1 = t1[endposition[0]-1][2] - t1[tempi][2] # in seconds\n",
    "\ttimeduration2 = t2[endposition[1]-1][2] - t2[tempj][2] # in seconds\n",
    "\n",
    "\treturn (maxscore, start1, end1, timeduration1, start2, end2, timeduration2)\n",
    "\n",
    "# only plot without writing to file\n",
    "def EDR_all(traj_dict, day, mt, ms, gap):\n",
    "    trajectories = traj_dict[day]\n",
    "    duration_score_set = []\n",
    "    duration_score_set.append([])\n",
    "    duration_score_set.append([])\n",
    "    for i in range(len(trajectories)-1):\n",
    "        for j in range(i+1, len(trajectories)-1):\n",
    "            score, start1, end1, duration1, start2, end2, duration2 = EDR(trajectories[i], trajectories[j], mt, ms, gap)\n",
    "#             line = \"Score: \" + str(score) + \" Duration 1: \" + str(duration1) + \"s (from \" + str(start1) + \" to \" + str(end1) + \") Duration 2: \" + str(duration2) + \"s (from \" + str(start2) + \" to \" + str(end2) + \")\\n\"\n",
    "#             print(line)\n",
    "            duration_score_set[0].append(min(duration1, duration2))\n",
    "            duration_score_set[1].append(score)\n",
    "    return duration_score_set"
   ]
  },
  {
   "cell_type": "code",
   "execution_count": 2,
   "metadata": {},
   "outputs": [],
   "source": [
    "def scatter(data_set, title, plotout):\n",
    "\tdata = np.asarray(data_set)\n",
    "\tx,y = data\n",
    "# \tplt.scatter(x,y)\n",
    "# \tplt.title(title)\n",
    "# \tplt.xlabel('Duration')\n",
    "# \tplt.ylabel('Score')\n",
    "# \tplt.savefig(plotout)\n",
    "\treturn np.polyfit(x,y,1)"
   ]
  },
  {
   "cell_type": "code",
   "execution_count": 3,
   "metadata": {},
   "outputs": [
    {
     "name": "stdout",
     "output_type": "stream",
     "text": [
      "Read CSV file\n"
     ]
    }
   ],
   "source": [
    "traj_dict = trajectory_by_day(\"../Data/DataByPerson/000.csv\")"
   ]
  },
  {
   "cell_type": "code",
   "execution_count": 4,
   "metadata": {},
   "outputs": [],
   "source": [
    "mt = 5\n",
    "ms = -3\n",
    "gap = -2"
   ]
  },
  {
   "cell_type": "code",
   "execution_count": 5,
   "metadata": {},
   "outputs": [],
   "source": [
    "filein = \"../Data/DataByPerson/000.csv\""
   ]
  },
  {
   "cell_type": "code",
   "execution_count": 6,
   "metadata": {},
   "outputs": [
    {
     "name": "stdout",
     "output_type": "stream",
     "text": [
      "[1.93788456e-02 2.18748305e+02]\n"
     ]
    }
   ],
   "source": [
    "monday = EDR_all(traj_dict, 1, mt, ms, gap)\n",
    "string1 = \"Person \" + str(filein[-7:-4]) + \" Day 1, Score Scale(\" + str(mt) + \",\" + str(ms) + \",\" + str(gap) + \")\"\n",
    "reg1 = scatter(monday, string1, \"../Result/Periodicity/000/distribution532_1.png\")\n",
    "print(reg1)"
   ]
  },
  {
   "cell_type": "code",
   "execution_count": 7,
   "metadata": {},
   "outputs": [
    {
     "name": "stdout",
     "output_type": "stream",
     "text": [
      "[3.19201711e-02 2.93865422e+02]\n"
     ]
    }
   ],
   "source": [
    "tuesday = EDR_all(traj_dict, 2, mt, ms, gap)\n",
    "string2 = \"Person \" + str(filein[-7:-4]) + \" Day 2, Score Scale(\" + str(mt) + \",\" + str(ms) + \",\" + str(gap) + \")\"\n",
    "reg2 = scatter(tuesday, string2, \"../Result/Periodicity/000/distribution532_2.png\")\n",
    "print(reg2)"
   ]
  },
  {
   "cell_type": "code",
   "execution_count": 8,
   "metadata": {},
   "outputs": [
    {
     "name": "stdout",
     "output_type": "stream",
     "text": [
      "[7.62899931e-03 2.45144892e+02]\n"
     ]
    }
   ],
   "source": [
    "wednesday = EDR_all(traj_dict, 3, mt, ms, gap)\n",
    "string3 = \"Person \" + str(filein[-7:-4]) + \" Day 3, Score Scale(\" + str(mt) + \",\" + str(ms) + \",\" + str(gap) + \")\"\n",
    "reg3 = scatter(wednesday, string3, \"../Result/Periodicity/000/distribution532_3.png\")\n",
    "print(reg3)"
   ]
  },
  {
   "cell_type": "code",
   "execution_count": 9,
   "metadata": {},
   "outputs": [
    {
     "name": "stdout",
     "output_type": "stream",
     "text": [
      "[-3.14056603e-03  1.98101435e+02]\n"
     ]
    }
   ],
   "source": [
    "thursday = EDR_all(traj_dict, 4, mt, ms, gap)\n",
    "string4 = \"Person \" + str(filein[-7:-4]) + \" Day 4, Score Scale(\" + str(mt) + \",\" + str(ms) + \",\" + str(gap) + \")\"\n",
    "reg4 = scatter(thursday, string4, \"../Result/Periodicity/000/distribution532_4.png\")\n",
    "print(reg4)"
   ]
  },
  {
   "cell_type": "code",
   "execution_count": 10,
   "metadata": {},
   "outputs": [
    {
     "name": "stdout",
     "output_type": "stream",
     "text": [
      "[1.31509104e-03 2.54194769e+02]\n"
     ]
    }
   ],
   "source": [
    "friday = EDR_all(traj_dict, 5, mt, ms, gap)\n",
    "string5 = \"Person \" + str(filein[-7:-4]) + \" Day 5, Score Scale(\" + str(mt) + \",\" + str(ms) + \",\" + str(gap) + \")\"\n",
    "reg5 = scatter(friday, string5, \"../Result/Periodicity/000/distribution532_5.png\")\n",
    "print(reg5)"
   ]
  },
  {
   "cell_type": "code",
   "execution_count": 11,
   "metadata": {},
   "outputs": [
    {
     "name": "stdout",
     "output_type": "stream",
     "text": [
      "[-3.23768225e-03  1.88764320e+02]\n"
     ]
    }
   ],
   "source": [
    "saturday = EDR_all(traj_dict, 6, mt, ms, gap)\n",
    "string6 = \"Person \" + str(filein[-7:-4]) + \" Day 6, Score Scale(\" + str(mt) + \",\" + str(ms) + \",\" + str(gap) + \")\"\n",
    "reg6 = scatter(saturday, string6, \"../Result/Periodicity/000/distribution532_6.png\")\n",
    "print(reg6)"
   ]
  },
  {
   "cell_type": "code",
   "execution_count": 12,
   "metadata": {},
   "outputs": [
    {
     "name": "stdout",
     "output_type": "stream",
     "text": [
      "[1.78909379e-02 1.85108714e+02]\n"
     ]
    }
   ],
   "source": [
    "sunday = EDR_all(traj_dict, 7, mt, ms, gap)\n",
    "string7 = \"Person \" + str(filein[-7:-4]) + \" Day 7, Score Scale(\" + str(mt) + \",\" + str(ms) + \",\" + str(gap) + \")\"\n",
    "reg7 = scatter(sunday, string7, \"../Result/Periodicity/000/distribution532_7.png\")\n",
    "print(reg7)"
   ]
  },
  {
   "cell_type": "code",
   "execution_count": 9,
   "metadata": {},
   "outputs": [],
   "source": [
    "def grapher(filein, mt, ms, gap):\n",
    "    traj_dict = trajectory_by_day(filein)\n",
    "    monday = EDR_all(traj_dict, 1, mt, ms, gap)\n",
    "    string1 = \"Person \" + str(filein[-7:-4]) + \" Day 1, Score Scale(\" + str(mt) + \",\" + str(ms) + \",\" + str(gap) + \")\"\n",
    "    scatter(monday, string1, \"../Result/Periodicity/000/distribution532_1.png\")\n",
    "    tuesday = EDR_all(traj_dict, 2, mt, ms, gap)\n",
    "    string2 = \"Person \" + str(filein[-7:-4]) + \" Day 2, Score Scale(\" + str(mt) + \",\" + str(ms) + \",\" + str(gap) + \")\"\n",
    "    scatter(tuesday, string2, \"../Result/Periodicity/000/distribution532_2.png\")\n",
    "    wednesday = EDR_all(traj_dict, 3, mt, ms, gap)\n",
    "    string3 = \"Person \" + str(filein[-7:-4]) + \" Day 3, Score Scale(\" + str(mt) + \",\" + str(ms) + \",\" + str(gap) + \")\"\n",
    "    scatter(wednesday, string3, \"../Result/Periodicity/000/distribution532_3.png\")\n",
    "    thursday = EDR_all(traj_dict, 4, mt, ms, gap)\n",
    "    string4 = \"Person \" + str(filein[-7:-4]) + \" Day 4, Score Scale(\" + str(mt) + \",\" + str(ms) + \",\" + str(gap) + \")\"\n",
    "    scatter(thursday, string4, \"../Result/Periodicity/000/distribution532_4.png\")\n",
    "    friday = EDR_all(traj_dict, 5, mt, ms, gap)\n",
    "    string5 = \"Person \" + str(filein[-7:-4]) + \" Day 5, Score Scale(\" + str(mt) + \",\" + str(ms) + \",\" + str(gap) + \")\"\n",
    "    scatter(friday, string5, \"../Result/Periodicity/000/distribution532_5.png\")\n",
    "    saturday = EDR_all(traj_dict, 6, mt, ms, gap)\n",
    "    string6 = \"Person \" + str(filein[-7:-4]) + \" Day 6, Score Scale(\" + str(mt) + \",\" + str(ms) + \",\" + str(gap) + \")\"\n",
    "    scatter(saturday, string6, \"../Result/Periodicity/000/distribution532_6.png\")\n",
    "    sunday = EDR_all(traj_dict, 7, mt, ms, gap)\n",
    "    string7 = \"Person \" + str(filein[-7:-4]) + \" Day 7, Score Scale(\" + str(mt) + \",\" + str(ms) + \",\" + str(gap) + \")\"\n",
    "    scatter(sunday, string7, \"../Result/Periodicity/000/distribution532_7.png\")"
   ]
  }
 ],
 "metadata": {
  "kernelspec": {
   "display_name": "Python 3",
   "language": "python",
   "name": "python3"
  },
  "language_info": {
   "codemirror_mode": {
    "name": "ipython",
    "version": 3
   },
   "file_extension": ".py",
   "mimetype": "text/x-python",
   "name": "python",
   "nbconvert_exporter": "python",
   "pygments_lexer": "ipython3",
   "version": "3.7.2"
  }
 },
 "nbformat": 4,
 "nbformat_minor": 2
}
