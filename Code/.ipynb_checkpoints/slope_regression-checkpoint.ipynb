{
 "cells": [
  {
   "cell_type": "code",
   "execution_count": 8,
   "metadata": {},
   "outputs": [],
   "source": [
    "from bjPOI import read_csv\n",
    "from datetime import datetime\n",
    "from datetime import date as dt\n",
    "import numpy as np\n",
    "from scipy import stats\n",
    "import matplotlib.pyplot as plt\n",
    "import math\n",
    "import os\n",
    "\n",
    "MATCHING_DISTANCE = 0.1\n",
    "MATCHING_TIME_FRAME = 3\n",
    "\n",
    "def matchTime(t1, t2):\n",
    "\treturn abs(datetime.fromtimestamp(t1).hour - datetime.fromtimestamp(t2).hour)<= MATCHING_TIME_FRAME # time difference no greater than 3 hours\n",
    "\t\n",
    "def match(gps1, gps2):\n",
    "    lat1, lon1, t1 = gps1\n",
    "    lat2, lon2, t2 = gps2\n",
    "    coord1 = (lat1,lon1)\n",
    "    coord2 = (lat2,lon2)\n",
    "\n",
    "    r = 6371\n",
    "    dlat = (lat2-lat1) * (math.pi/180)\n",
    "    dlon = (lon2-lon1) * (math.pi/180)\n",
    "\n",
    "    a = math.sin(dlat/2) * math.sin(dlat/2) + math.cos(lat1 * (math.pi/180)) * math.cos(lat2 * (math.pi/180)) * math.sin(dlon/2) * math.sin(dlon/2)\n",
    "\n",
    "    c = 2 * math.atan2(math.sqrt(a), math.sqrt(1-a))\n",
    "    d = r * c\n",
    "\n",
    "    return d <= MATCHING_DISTANCE and matchTime(t1, t2)\n",
    "\n",
    "def trajectory_by_day(fname):\n",
    "\ttrajectories = {}\n",
    "\tfor i in range(1,8):\n",
    "\t\ttrajectories[i] = []\n",
    "\ttrajectory = read_csv(fname)\n",
    "\tprint(\"Read CSV file\")\n",
    "\tstart = False\n",
    "\tlast_date = dt.min\n",
    "\tlast_day = 0\n",
    "\tfor data_tup in trajectory:\n",
    "\t\tday = datetime.fromtimestamp(data_tup[2]).isoweekday()\n",
    "\t\tif day == last_day:\n",
    "\t\t\tdate = dt.fromtimestamp(data_tup[2])\n",
    "\t\t\tif date == last_date:\n",
    "\t\t\t\ttrajectories[day][-1].append(data_tup)\n",
    "\t\t\telse:\n",
    "\t\t\t\tone_trajectory = [data_tup]\n",
    "\t\t\t\ttrajectories[day].append(one_trajectory)\n",
    "\t\t\t\tlast_date = date\n",
    "\t\telse:\n",
    "\t\t\tdate = dt.fromtimestamp(data_tup[2])\n",
    "\t\t\tone_trajectory = [data_tup]\n",
    "\t\t\ttrajectories[day].append(one_trajectory)\n",
    "\t\t\tlast_date = date\n",
    "\t\t\tlast_day = day\n",
    "\n",
    "\treturn trajectories"
   ]
  },
  {
   "cell_type": "code",
   "execution_count": 2,
   "metadata": {},
   "outputs": [],
   "source": [
    "# match +5, mismatch -3, gap -2\n",
    "def EDR(t1, t2, mt, ms, gap):\n",
    "\tm, n = len(t1), len(t2)\n",
    "\tmatcher = [[0 for x in range(n+1)] for y in range(m+1)]\n",
    "\tbacktrack = [[(-1,-1) for x in range(n+1)] for y in range(m+1)]\n",
    "\tmaxscore = 0\n",
    "\tendposition = (0, 0)\n",
    "\tfor i in range(1, m+1):\n",
    "\t\tfor j in range(1, n+1):\n",
    "\t\t\tgapAbove = matcher[i-1][j]+gap\n",
    "\t\t\tgapLeft = matcher[i][j-1]+gap\n",
    "\t\t\tmatching = matcher[i-1][j-1] + (mt if match(t1[i-1],t2[j-1]) else ms)\n",
    "\t\t\tscore = max(0, max(gapAbove, gapLeft, matching)) # if negative, convert to 0\n",
    "\t\t\tmatcher[i][j] = score\n",
    "\n",
    "\t\t\t# set backtrack table\n",
    "\t\t\tif score == matching:\n",
    "\t\t\t\tbacktrack[i][j] = (i-1, j-1)\n",
    "\t\t\telif score == gapAbove:\n",
    "\t\t\t\tbacktrack[i][j] = (i-1, j)\n",
    "\t\t\telif score == gapLeft:\n",
    "\t\t\t\tbacktrack[i][j] = (i, j-1)\n",
    "\t\t\telse:\n",
    "\t\t\t\tbacktrack[i][j] = (-1, -1)\n",
    "\n",
    "\t\t\t# update maxscore\n",
    "\t\t\tif score > maxscore:\n",
    "\t\t\t\tmaxscore = score\n",
    "\t\t\t\tendposition = (i, j)\n",
    "\n",
    "\ttempi, tempj = endposition\n",
    "\twhile backtrack[tempi][tempj] != (-1, -1):\n",
    "\t\ttempi, tempj = backtrack[tempi][tempj]\n",
    "\n",
    "\t# calculate time duration of both subtrajectories\n",
    "\tstart1 = datetime.fromtimestamp(t1[tempi][2]).isoformat()\n",
    "\tend1 =datetime.fromtimestamp(t1[endposition[0]-1][2]).isoformat()\n",
    "\tstart2 = datetime.fromtimestamp(t2[tempj][2]).isoformat()\n",
    "\tend2 =datetime.fromtimestamp(t2[endposition[1]-1][2]).isoformat()\n",
    "\ttimeduration1 = t1[endposition[0]-1][2] - t1[tempi][2] # in seconds\n",
    "\ttimeduration2 = t2[endposition[1]-1][2] - t2[tempj][2] # in seconds\n",
    "\n",
    "\treturn (maxscore, start1, end1, timeduration1, start2, end2, timeduration2)"
   ]
  },
  {
   "cell_type": "code",
   "execution_count": 3,
   "metadata": {},
   "outputs": [],
   "source": [
    "# return a list of (min_duration, score) tuples\n",
    "def EDR_all(traj_dict, day, mt, ms, gap):\n",
    "    trajectories = traj_dict[day]\n",
    "    duration_score_set = []\n",
    "    for i in range(len(trajectories)-1):\n",
    "        for j in range(i+1, len(trajectories)-1):\n",
    "            score, start1, end1, duration1, start2, end2, duration2 = EDR(trajectories[i], trajectories[j], mt, ms, gap)\n",
    "            duration_score_set.append((min(duration1, duration2),score))\n",
    "\n",
    "    return duration_score_set"
   ]
  },
  {
   "cell_type": "code",
   "execution_count": 4,
   "metadata": {},
   "outputs": [],
   "source": [
    "# draw scatter plot of one person one day\n",
    "def scatter(x,y,title,plotout):\n",
    "    plt.scatter(x,y)\n",
    "    plt.title(title)\n",
    "    plt.xlabel('Duration')\n",
    "    plt.ylabel('Score')\n",
    "    plt.savefig(plotout)"
   ]
  },
  {
   "cell_type": "code",
   "execution_count": 26,
   "metadata": {},
   "outputs": [],
   "source": [
    "def calculate_one_regression(data):\n",
    "    data.sort(key=lambda pair: pair[0])\n",
    "    cleaned_data = [d for d in data[:-(2* (len(data) // 10))] if d[1] != 0]\n",
    "    unzipped_data = list(zip(*cleaned_data))\n",
    "    x,y = np.asarray(unzipped_data)\n",
    "    slope, intercept, r_value, p_value, std_err = stats.linregress(x, y)\n",
    "    plt.plot(x, y, 'o', label='original data')\n",
    "    plt.plot(x, intercept + slope*x, 'r', label='fitted line')\n",
    "    plt.legend()\n",
    "    plt.show()\n",
    "    print(\"slope: %f    r_value: %f    p_value: %f\" % (slope, r_value, p_value))\n",
    "    return slope"
   ]
  },
  {
   "cell_type": "code",
   "execution_count": 6,
   "metadata": {},
   "outputs": [],
   "source": [
    "def determine_slope_one_person(traj_dict):\n",
    "    result = 0\n",
    "    for i in range(1, 8):\n",
    "        result+=calculate_one_regression(EDR_all(traj_dict, i, 5, -3, -2))\n",
    "    return result/7"
   ]
  },
  {
   "cell_type": "code",
   "execution_count": 27,
   "metadata": {},
   "outputs": [],
   "source": [
    "def determine_slope():\n",
    "    directory = \"../Data/DataByPerson\"\n",
    "    considered = 0\n",
    "    slope = 0\n",
    "    d_slope = float('inf')\n",
    "    for f in os.listdir(directory):\n",
    "        if d_slope >= 0.05:\n",
    "            fname = os.path.join(directory, f)\n",
    "            traj_dict = trajectory_by_day(fname)\n",
    "            print(traj_dict[1])\n",
    "            new_slope = determine_slope_one_person(traj_dict)\n",
    "            new_average = (slope * considered + new_slope)/(considered+1)\n",
    "            considered+=1\n",
    "            d_slope = abs(new_average-slope)\n",
    "            slope = new_average\n",
    "            print(new_slope)\n",
    "            print(f, new_average ,d_slope)\n",
    "        else:\n",
    "            break\n",
    "    return slope      "
   ]
  },
  {
   "cell_type": "code",
   "execution_count": 28,
   "metadata": {},
   "outputs": [
    {
     "name": "stdout",
     "output_type": "stream",
     "text": [
      "done\n",
      "Read CSV file\n"
     ]
    },
    {
     "name": "stderr",
     "output_type": "stream",
     "text": [
      "IOPub data rate exceeded.\n",
      "The notebook server will temporarily stop sending output\n",
      "to the client in order to avoid crashing it.\n",
      "To change this limit, set the config variable\n",
      "`--NotebookApp.iopub_data_rate_limit`.\n",
      "\n",
      "Current values:\n",
      "NotebookApp.iopub_data_rate_limit=1000000.0 (bytes/sec)\n",
      "NotebookApp.rate_limit_window=3.0 (secs)\n",
      "\n"
     ]
    },
    {
     "ename": "ValueError",
     "evalue": "not enough values to unpack (expected 2, got 0)",
     "output_type": "error",
     "traceback": [
      "\u001b[1;31m---------------------------------------------------------------------------\u001b[0m",
      "\u001b[1;31mValueError\u001b[0m                                Traceback (most recent call last)",
      "\u001b[1;32m<ipython-input-28-56a9048d3248>\u001b[0m in \u001b[0;36m<module>\u001b[1;34m\u001b[0m\n\u001b[1;32m----> 1\u001b[1;33m \u001b[0mdetermine_slope\u001b[0m\u001b[1;33m(\u001b[0m\u001b[1;33m)\u001b[0m\u001b[1;33m\u001b[0m\u001b[1;33m\u001b[0m\u001b[0m\n\u001b[0m",
      "\u001b[1;32m<ipython-input-27-e34f87137005>\u001b[0m in \u001b[0;36mdetermine_slope\u001b[1;34m()\u001b[0m\n\u001b[0;32m      9\u001b[0m             \u001b[0mtraj_dict\u001b[0m \u001b[1;33m=\u001b[0m \u001b[0mtrajectory_by_day\u001b[0m\u001b[1;33m(\u001b[0m\u001b[0mfname\u001b[0m\u001b[1;33m)\u001b[0m\u001b[1;33m\u001b[0m\u001b[1;33m\u001b[0m\u001b[0m\n\u001b[0;32m     10\u001b[0m             \u001b[0mprint\u001b[0m\u001b[1;33m(\u001b[0m\u001b[0mtraj_dict\u001b[0m\u001b[1;33m)\u001b[0m\u001b[1;33m\u001b[0m\u001b[1;33m\u001b[0m\u001b[0m\n\u001b[1;32m---> 11\u001b[1;33m             \u001b[0mnew_slope\u001b[0m \u001b[1;33m=\u001b[0m \u001b[0mdetermine_slope_one_person\u001b[0m\u001b[1;33m(\u001b[0m\u001b[0mtraj_dict\u001b[0m\u001b[1;33m)\u001b[0m\u001b[1;33m\u001b[0m\u001b[1;33m\u001b[0m\u001b[0m\n\u001b[0m\u001b[0;32m     12\u001b[0m             \u001b[0mnew_average\u001b[0m \u001b[1;33m=\u001b[0m \u001b[1;33m(\u001b[0m\u001b[0mslope\u001b[0m \u001b[1;33m*\u001b[0m \u001b[0mconsidered\u001b[0m \u001b[1;33m+\u001b[0m \u001b[0mnew_slope\u001b[0m\u001b[1;33m)\u001b[0m\u001b[1;33m/\u001b[0m\u001b[1;33m(\u001b[0m\u001b[0mconsidered\u001b[0m\u001b[1;33m+\u001b[0m\u001b[1;36m1\u001b[0m\u001b[1;33m)\u001b[0m\u001b[1;33m\u001b[0m\u001b[1;33m\u001b[0m\u001b[0m\n\u001b[0;32m     13\u001b[0m             \u001b[0mconsidered\u001b[0m\u001b[1;33m+=\u001b[0m\u001b[1;36m1\u001b[0m\u001b[1;33m\u001b[0m\u001b[1;33m\u001b[0m\u001b[0m\n",
      "\u001b[1;32m<ipython-input-6-101aa67d0993>\u001b[0m in \u001b[0;36mdetermine_slope_one_person\u001b[1;34m(traj_dict)\u001b[0m\n\u001b[0;32m      2\u001b[0m     \u001b[0mresult\u001b[0m \u001b[1;33m=\u001b[0m \u001b[1;36m0\u001b[0m\u001b[1;33m\u001b[0m\u001b[1;33m\u001b[0m\u001b[0m\n\u001b[0;32m      3\u001b[0m     \u001b[1;32mfor\u001b[0m \u001b[0mi\u001b[0m \u001b[1;32min\u001b[0m \u001b[0mrange\u001b[0m\u001b[1;33m(\u001b[0m\u001b[1;36m1\u001b[0m\u001b[1;33m,\u001b[0m \u001b[1;36m8\u001b[0m\u001b[1;33m)\u001b[0m\u001b[1;33m:\u001b[0m\u001b[1;33m\u001b[0m\u001b[1;33m\u001b[0m\u001b[0m\n\u001b[1;32m----> 4\u001b[1;33m         \u001b[0mresult\u001b[0m\u001b[1;33m+=\u001b[0m\u001b[0mcalculate_one_regression\u001b[0m\u001b[1;33m(\u001b[0m\u001b[0mEDR_all\u001b[0m\u001b[1;33m(\u001b[0m\u001b[0mtraj_dict\u001b[0m\u001b[1;33m,\u001b[0m \u001b[0mi\u001b[0m\u001b[1;33m,\u001b[0m \u001b[1;36m5\u001b[0m\u001b[1;33m,\u001b[0m \u001b[1;33m-\u001b[0m\u001b[1;36m3\u001b[0m\u001b[1;33m,\u001b[0m \u001b[1;33m-\u001b[0m\u001b[1;36m2\u001b[0m\u001b[1;33m)\u001b[0m\u001b[1;33m)\u001b[0m\u001b[1;33m\u001b[0m\u001b[1;33m\u001b[0m\u001b[0m\n\u001b[0m\u001b[0;32m      5\u001b[0m     \u001b[1;32mreturn\u001b[0m \u001b[0mresult\u001b[0m\u001b[1;33m/\u001b[0m\u001b[1;36m7\u001b[0m\u001b[1;33m\u001b[0m\u001b[1;33m\u001b[0m\u001b[0m\n",
      "\u001b[1;32m<ipython-input-26-e012996abe57>\u001b[0m in \u001b[0;36mcalculate_one_regression\u001b[1;34m(data)\u001b[0m\n\u001b[0;32m      3\u001b[0m     \u001b[0mcleaned_data\u001b[0m \u001b[1;33m=\u001b[0m \u001b[1;33m[\u001b[0m\u001b[0md\u001b[0m \u001b[1;32mfor\u001b[0m \u001b[0md\u001b[0m \u001b[1;32min\u001b[0m \u001b[0mdata\u001b[0m\u001b[1;33m[\u001b[0m\u001b[1;33m:\u001b[0m\u001b[1;33m-\u001b[0m\u001b[1;33m(\u001b[0m\u001b[1;36m2\u001b[0m\u001b[1;33m*\u001b[0m \u001b[1;33m(\u001b[0m\u001b[0mlen\u001b[0m\u001b[1;33m(\u001b[0m\u001b[0mdata\u001b[0m\u001b[1;33m)\u001b[0m \u001b[1;33m//\u001b[0m \u001b[1;36m10\u001b[0m\u001b[1;33m)\u001b[0m\u001b[1;33m)\u001b[0m\u001b[1;33m]\u001b[0m \u001b[1;32mif\u001b[0m \u001b[0md\u001b[0m\u001b[1;33m[\u001b[0m\u001b[1;36m1\u001b[0m\u001b[1;33m]\u001b[0m \u001b[1;33m!=\u001b[0m \u001b[1;36m0\u001b[0m\u001b[1;33m]\u001b[0m\u001b[1;33m\u001b[0m\u001b[1;33m\u001b[0m\u001b[0m\n\u001b[0;32m      4\u001b[0m     \u001b[0munzipped_data\u001b[0m \u001b[1;33m=\u001b[0m \u001b[0mlist\u001b[0m\u001b[1;33m(\u001b[0m\u001b[0mzip\u001b[0m\u001b[1;33m(\u001b[0m\u001b[1;33m*\u001b[0m\u001b[0mcleaned_data\u001b[0m\u001b[1;33m)\u001b[0m\u001b[1;33m)\u001b[0m\u001b[1;33m\u001b[0m\u001b[1;33m\u001b[0m\u001b[0m\n\u001b[1;32m----> 5\u001b[1;33m     \u001b[0mx\u001b[0m\u001b[1;33m,\u001b[0m\u001b[0my\u001b[0m \u001b[1;33m=\u001b[0m \u001b[0mnp\u001b[0m\u001b[1;33m.\u001b[0m\u001b[0masarray\u001b[0m\u001b[1;33m(\u001b[0m\u001b[0munzipped_data\u001b[0m\u001b[1;33m)\u001b[0m\u001b[1;33m\u001b[0m\u001b[1;33m\u001b[0m\u001b[0m\n\u001b[0m\u001b[0;32m      6\u001b[0m     \u001b[0mslope\u001b[0m\u001b[1;33m,\u001b[0m \u001b[0mintercept\u001b[0m\u001b[1;33m,\u001b[0m \u001b[0mr_value\u001b[0m\u001b[1;33m,\u001b[0m \u001b[0mp_value\u001b[0m\u001b[1;33m,\u001b[0m \u001b[0mstd_err\u001b[0m \u001b[1;33m=\u001b[0m \u001b[0mstats\u001b[0m\u001b[1;33m.\u001b[0m\u001b[0mlinregress\u001b[0m\u001b[1;33m(\u001b[0m\u001b[0mx\u001b[0m\u001b[1;33m,\u001b[0m \u001b[0my\u001b[0m\u001b[1;33m)\u001b[0m\u001b[1;33m\u001b[0m\u001b[1;33m\u001b[0m\u001b[0m\n\u001b[0;32m      7\u001b[0m     \u001b[0mplt\u001b[0m\u001b[1;33m.\u001b[0m\u001b[0mplot\u001b[0m\u001b[1;33m(\u001b[0m\u001b[0mx\u001b[0m\u001b[1;33m,\u001b[0m \u001b[0my\u001b[0m\u001b[1;33m,\u001b[0m \u001b[1;34m'o'\u001b[0m\u001b[1;33m,\u001b[0m \u001b[0mlabel\u001b[0m\u001b[1;33m=\u001b[0m\u001b[1;34m'original data'\u001b[0m\u001b[1;33m)\u001b[0m\u001b[1;33m\u001b[0m\u001b[1;33m\u001b[0m\u001b[0m\n",
      "\u001b[1;31mValueError\u001b[0m: not enough values to unpack (expected 2, got 0)"
     ]
    }
   ],
   "source": [
    "determine_slope()"
   ]
  },
  {
   "cell_type": "code",
   "execution_count": null,
   "metadata": {},
   "outputs": [],
   "source": []
  }
 ],
 "metadata": {
  "kernelspec": {
   "display_name": "Python 3",
   "language": "python",
   "name": "python3"
  },
  "language_info": {
   "codemirror_mode": {
    "name": "ipython",
    "version": 3
   },
   "file_extension": ".py",
   "mimetype": "text/x-python",
   "name": "python",
   "nbconvert_exporter": "python",
   "pygments_lexer": "ipython3",
   "version": "3.7.2"
  }
 },
 "nbformat": 4,
 "nbformat_minor": 2
}
