{
 "cells": [
  {
   "cell_type": "code",
   "execution_count": 1,
   "metadata": {},
   "outputs": [],
   "source": [
    "from bjPOI import read_csv\n",
    "from datetime import datetime\n",
    "from datetime import date as dt\n",
    "import numpy as np\n",
    "from scipy import stats\n",
    "import matplotlib.pyplot as plt\n",
    "import math\n",
    "import os\n",
    "\n",
    "MATCHING_DISTANCE = 0.1\n",
    "MATCHING_TIME_FRAME = 3\n",
    "\n",
    "def matchTime(t1, t2):\n",
    "\treturn abs(datetime.fromtimestamp(t1).hour - datetime.fromtimestamp(t2).hour)<= MATCHING_TIME_FRAME # time difference no greater than 3 hours\n",
    "\t\n",
    "def match(gps1, gps2):\n",
    "    lat1, lon1, t1 = gps1\n",
    "    lat2, lon2, t2 = gps2\n",
    "    coord1 = (lat1,lon1)\n",
    "    coord2 = (lat2,lon2)\n",
    "\n",
    "    r = 6371\n",
    "    dlat = (lat2-lat1) * (math.pi/180)\n",
    "    dlon = (lon2-lon1) * (math.pi/180)\n",
    "\n",
    "    a = math.sin(dlat/2) * math.sin(dlat/2) + math.cos(lat1 * (math.pi/180)) * math.cos(lat2 * (math.pi/180)) * math.sin(dlon/2) * math.sin(dlon/2)\n",
    "\n",
    "    c = 2 * math.atan2(math.sqrt(a), math.sqrt(1-a))\n",
    "    d = r * c\n",
    "\n",
    "    return d <= MATCHING_DISTANCE and matchTime(t1, t2)\n",
    "\n",
    "def trajectory_by_day(fname):\n",
    "\ttrajectories = {}\n",
    "\tfor i in range(1,8):\n",
    "\t\ttrajectories[i] = []\n",
    "\ttrajectory = read_csv(fname)\n",
    "\tprint(\"Read CSV file\")\n",
    "\tstart = False\n",
    "\tlast_date = dt.min\n",
    "\tlast_day = 0\n",
    "\tfor data_tup in trajectory:\n",
    "\t\tday = datetime.fromtimestamp(data_tup[2]).isoweekday()\n",
    "\t\tif day == last_day:\n",
    "\t\t\tdate = dt.fromtimestamp(data_tup[2])\n",
    "\t\t\tif date == last_date:\n",
    "\t\t\t\ttrajectories[day][-1].append(data_tup)\n",
    "\t\t\telse:\n",
    "\t\t\t\tone_trajectory = [data_tup]\n",
    "\t\t\t\ttrajectories[day].append(one_trajectory)\n",
    "\t\t\t\tlast_date = date\n",
    "\t\telse:\n",
    "\t\t\tdate = dt.fromtimestamp(data_tup[2])\n",
    "\t\t\tone_trajectory = [data_tup]\n",
    "\t\t\ttrajectories[day].append(one_trajectory)\n",
    "\t\t\tlast_date = date\n",
    "\t\t\tlast_day = day\n",
    "\n",
    "\treturn trajectories"
   ]
  },
  {
   "cell_type": "code",
   "execution_count": 2,
   "metadata": {},
   "outputs": [],
   "source": [
    "# match +5, mismatch -3, gap -2\n",
    "def EDR(t1, t2, mt, ms, gap):\n",
    "\tm, n = len(t1), len(t2)\n",
    "\tmatcher = [[0 for x in range(n+1)] for y in range(m+1)]\n",
    "\tbacktrack = [[(-1,-1) for x in range(n+1)] for y in range(m+1)]\n",
    "\tmaxscore = 0\n",
    "\tendposition = (0, 0)\n",
    "\tfor i in range(1, m+1):\n",
    "\t\tfor j in range(1, n+1):\n",
    "\t\t\tgapAbove = matcher[i-1][j]+gap\n",
    "\t\t\tgapLeft = matcher[i][j-1]+gap\n",
    "\t\t\tmatching = matcher[i-1][j-1] + (mt if match(t1[i-1],t2[j-1]) else ms)\n",
    "\t\t\tscore = max(0, max(gapAbove, gapLeft, matching)) # if negative, convert to 0\n",
    "\t\t\tmatcher[i][j] = score\n",
    "\n",
    "\t\t\t# set backtrack table\n",
    "\t\t\tif score == matching:\n",
    "\t\t\t\tbacktrack[i][j] = (i-1, j-1)\n",
    "\t\t\telif score == gapAbove:\n",
    "\t\t\t\tbacktrack[i][j] = (i-1, j)\n",
    "\t\t\telif score == gapLeft:\n",
    "\t\t\t\tbacktrack[i][j] = (i, j-1)\n",
    "\t\t\telse:\n",
    "\t\t\t\tbacktrack[i][j] = (-1, -1)\n",
    "\n",
    "\t\t\t# update maxscore\n",
    "\t\t\tif score > maxscore:\n",
    "\t\t\t\tmaxscore = score\n",
    "\t\t\t\tendposition = (i, j)\n",
    "\n",
    "\ttempi, tempj = endposition\n",
    "\twhile backtrack[tempi][tempj] != (-1, -1):\n",
    "\t\ttempi, tempj = backtrack[tempi][tempj]\n",
    "\n",
    "\t# calculate time duration of both subtrajectories\n",
    "# \tstart1 = datetime.fromtimestamp(t1[tempi][2]).isoformat()\n",
    "# \tend1 =datetime.fromtimestamp(t1[endposition[0]-1][2]).isoformat()\n",
    "# \tstart2 = datetime.fromtimestamp(t2[tempj][2]).isoformat()\n",
    "# \tend2 =datetime.fromtimestamp(t2[endposition[1]-1][2]).isoformat()\n",
    "# \ttimeduration1 = t1[endposition[0]-1][2] - t1[tempi][2] # in seconds\n",
    "# \ttimeduration2 = t2[endposition[1]-1][2] - t2[tempj][2] # in seconds\n",
    "\tpoints1 = endposition[0]-tempi # number of points\n",
    "\tpoints2 = endposition[1]-tempj # number of points\n",
    "\texpectedScore = min(points1, points2) * mt\n",
    "\n",
    "\treturn (maxscore, expectedScore)"
   ]
  },
  {
   "cell_type": "code",
   "execution_count": 3,
   "metadata": {},
   "outputs": [],
   "source": [
    "# return a list of (min_duration, score) tuples\n",
    "def EDR_all(traj_dict, day, mt, ms, gap):\n",
    "    trajectories = traj_dict[day]\n",
    "    expectedScore_score_set = []\n",
    "    for i in range(len(trajectories)-1):\n",
    "        for j in range(i+1, len(trajectories)-1):\n",
    "            score, expectedScore = EDR(trajectories[i], trajectories[j], mt, ms, gap)\n",
    "            expectedScore_score_set.append((expectedScore,score))\n",
    "\n",
    "    return expectedScore_score_set"
   ]
  },
  {
   "cell_type": "code",
   "execution_count": 4,
   "metadata": {},
   "outputs": [],
   "source": [
    "def exp_score_vs_score(data):\n",
    "    new_data = [(d[0],d[1]/d[0]) if d[0]!=0 else (d[0], 0) for d in data]\n",
    "    unzipped_data = list(zip(*new_data))\n",
    "    x,y = np.asarray(unzipped_data)\n",
    "#     slope, intercept, r_value, p_value, std_err = stats.linregress(x, y)\n",
    "#     plt.plot(x, y, 'o', label='original data')\n",
    "#     plt.plot(x, intercept + slope*x, 'r', label='fitted line')\n",
    "    hist= plt.hist(y,bins=[0.0, 0.1, 0.2, 0.3, 0.4, 0.5, 0.6, 0.7, 0.8, 0.9, 1.0])\n",
    "    plt.legend()\n",
    "    plt.show()\n",
    "#     print(\"hist: %f    bin_edges: %f\" % (hist, bin_edge))\n",
    "    return hist"
   ]
  },
  {
   "cell_type": "code",
   "execution_count": 5,
   "metadata": {},
   "outputs": [
    {
     "name": "stdout",
     "output_type": "stream",
     "text": [
      "Read CSV file\n"
     ]
    }
   ],
   "source": [
    "# traj_dict0 = trajectory_by_day(\"../Data/DataByPerson/000.csv\")\n",
    "# traj_dict1 = trajectory_by_day(\"../Data/DataByPerson/001.csv\")\n",
    "# traj_dict2 = trajectory_by_day(\"../Data/DataByPerson/002.csv\")\n",
    "traj_dict3 = trajectory_by_day(\"../Data/DataByPerson/003.csv\")\n",
    "# traj_dict4 = trajectory_by_day(\"../Data/DataByPerson/004.csv\")\n",
    "# traj_dict5 = trajectory_by_day(\"../Data/DataByPerson/005.csv\")"
   ]
  },
  {
   "cell_type": "code",
   "execution_count": null,
   "metadata": {},
   "outputs": [],
   "source": [
    "monday0 = EDR_all(traj_dict0, 1, 5, -3, -2)\n",
    "tuesday0 = EDR_all(traj_dict0, 2, 5, -3, -2)\n",
    "wednesday0 = EDR_all(traj_dict0, 3, 5, -3, -2)\n",
    "thursday0 = EDR_all(traj_dict0, 4, 5, -3, -2)\n",
    "friday0 = EDR_all(traj_dict0, 5, 5, -3, -2)\n",
    "saturday0 = EDR_all(traj_dict0, 6, 5, -3, -2)\n",
    "sunday0 = EDR_all(traj_dict0, 7, 5, -3, -2)"
   ]
  },
  {
   "cell_type": "code",
   "execution_count": null,
   "metadata": {},
   "outputs": [],
   "source": [
    "monday1 = EDR_all(traj_dict1, 1, 5, -3, -2)\n",
    "tuesday1 = EDR_all(traj_dict1, 2, 5, -3, -2)\n",
    "wednesday1 = EDR_all(traj_dict1, 3, 5, -3, -2)\n",
    "thursday1 = EDR_all(traj_dict1, 4, 5, -3, -2)\n",
    "friday1 = EDR_all(traj_dict1, 5, 5, -3, -2)\n",
    "saturday1 = EDR_all(traj_dict1, 6, 5, -3, -2)\n",
    "sunday1 = EDR_all(traj_dict1, 7, 5, -3, -2)"
   ]
  },
  {
   "cell_type": "code",
   "execution_count": null,
   "metadata": {},
   "outputs": [],
   "source": [
    "monday2 = EDR_all(traj_dict2, 1, 5, -3, -2)\n",
    "tuesday2 = EDR_all(traj_dict2, 2, 5, -3, -2)\n",
    "wednesday2 = EDR_all(traj_dict2, 3, 5, -3, -2)\n",
    "thursday2 = EDR_all(traj_dict2, 4, 5, -3, -2)\n",
    "friday2 = EDR_all(traj_dict2, 5, 5, -3, -2)\n",
    "saturday2 = EDR_all(traj_dict2, 6, 5, -3, -2)\n",
    "sunday2 = EDR_all(traj_dict2, 7, 5, -3, -2)"
   ]
  },
  {
   "cell_type": "code",
   "execution_count": 6,
   "metadata": {},
   "outputs": [
    {
     "ename": "MemoryError",
     "evalue": "",
     "output_type": "error",
     "traceback": [
      "\u001b[1;31m---------------------------------------------------------------------------\u001b[0m",
      "\u001b[1;31mMemoryError\u001b[0m                               Traceback (most recent call last)",
      "\u001b[1;31mMemoryError\u001b[0m: ",
      "\nDuring handling of the above exception, another exception occurred:\n",
      "\u001b[1;31mMemoryError\u001b[0m                               Traceback (most recent call last)",
      "\u001b[1;32m<ipython-input-6-ecd1dc678196>\u001b[0m in \u001b[0;36m<module>\u001b[1;34m\u001b[0m\n\u001b[1;32m----> 1\u001b[1;33m \u001b[0mmonday3\u001b[0m \u001b[1;33m=\u001b[0m \u001b[0mEDR_all\u001b[0m\u001b[1;33m(\u001b[0m\u001b[0mtraj_dict3\u001b[0m\u001b[1;33m,\u001b[0m \u001b[1;36m1\u001b[0m\u001b[1;33m,\u001b[0m \u001b[1;36m5\u001b[0m\u001b[1;33m,\u001b[0m \u001b[1;33m-\u001b[0m\u001b[1;36m3\u001b[0m\u001b[1;33m,\u001b[0m \u001b[1;33m-\u001b[0m\u001b[1;36m2\u001b[0m\u001b[1;33m)\u001b[0m\u001b[1;33m\u001b[0m\u001b[1;33m\u001b[0m\u001b[0m\n\u001b[0m\u001b[0;32m      2\u001b[0m \u001b[0mtuesday3\u001b[0m \u001b[1;33m=\u001b[0m \u001b[0mEDR_all\u001b[0m\u001b[1;33m(\u001b[0m\u001b[0mtraj_dict3\u001b[0m\u001b[1;33m,\u001b[0m \u001b[1;36m2\u001b[0m\u001b[1;33m,\u001b[0m \u001b[1;36m5\u001b[0m\u001b[1;33m,\u001b[0m \u001b[1;33m-\u001b[0m\u001b[1;36m3\u001b[0m\u001b[1;33m,\u001b[0m \u001b[1;33m-\u001b[0m\u001b[1;36m2\u001b[0m\u001b[1;33m)\u001b[0m\u001b[1;33m\u001b[0m\u001b[1;33m\u001b[0m\u001b[0m\n\u001b[0;32m      3\u001b[0m \u001b[0mwednesday3\u001b[0m \u001b[1;33m=\u001b[0m \u001b[0mEDR_all\u001b[0m\u001b[1;33m(\u001b[0m\u001b[0mtraj_dict3\u001b[0m\u001b[1;33m,\u001b[0m \u001b[1;36m3\u001b[0m\u001b[1;33m,\u001b[0m \u001b[1;36m5\u001b[0m\u001b[1;33m,\u001b[0m \u001b[1;33m-\u001b[0m\u001b[1;36m3\u001b[0m\u001b[1;33m,\u001b[0m \u001b[1;33m-\u001b[0m\u001b[1;36m2\u001b[0m\u001b[1;33m)\u001b[0m\u001b[1;33m\u001b[0m\u001b[1;33m\u001b[0m\u001b[0m\n\u001b[0;32m      4\u001b[0m \u001b[0mthursday3\u001b[0m \u001b[1;33m=\u001b[0m \u001b[0mEDR_all\u001b[0m\u001b[1;33m(\u001b[0m\u001b[0mtraj_dict3\u001b[0m\u001b[1;33m,\u001b[0m \u001b[1;36m4\u001b[0m\u001b[1;33m,\u001b[0m \u001b[1;36m5\u001b[0m\u001b[1;33m,\u001b[0m \u001b[1;33m-\u001b[0m\u001b[1;36m3\u001b[0m\u001b[1;33m,\u001b[0m \u001b[1;33m-\u001b[0m\u001b[1;36m2\u001b[0m\u001b[1;33m)\u001b[0m\u001b[1;33m\u001b[0m\u001b[1;33m\u001b[0m\u001b[0m\n\u001b[0;32m      5\u001b[0m \u001b[0mfriday3\u001b[0m \u001b[1;33m=\u001b[0m \u001b[0mEDR_all\u001b[0m\u001b[1;33m(\u001b[0m\u001b[0mtraj_dict3\u001b[0m\u001b[1;33m,\u001b[0m \u001b[1;36m5\u001b[0m\u001b[1;33m,\u001b[0m \u001b[1;36m5\u001b[0m\u001b[1;33m,\u001b[0m \u001b[1;33m-\u001b[0m\u001b[1;36m3\u001b[0m\u001b[1;33m,\u001b[0m \u001b[1;33m-\u001b[0m\u001b[1;36m2\u001b[0m\u001b[1;33m)\u001b[0m\u001b[1;33m\u001b[0m\u001b[1;33m\u001b[0m\u001b[0m\n",
      "\u001b[1;32m<ipython-input-3-d1da23f0b8ee>\u001b[0m in \u001b[0;36mEDR_all\u001b[1;34m(traj_dict, day, mt, ms, gap)\u001b[0m\n\u001b[0;32m      5\u001b[0m     \u001b[1;32mfor\u001b[0m \u001b[0mi\u001b[0m \u001b[1;32min\u001b[0m \u001b[0mrange\u001b[0m\u001b[1;33m(\u001b[0m\u001b[0mlen\u001b[0m\u001b[1;33m(\u001b[0m\u001b[0mtrajectories\u001b[0m\u001b[1;33m)\u001b[0m\u001b[1;33m-\u001b[0m\u001b[1;36m1\u001b[0m\u001b[1;33m)\u001b[0m\u001b[1;33m:\u001b[0m\u001b[1;33m\u001b[0m\u001b[1;33m\u001b[0m\u001b[0m\n\u001b[0;32m      6\u001b[0m         \u001b[1;32mfor\u001b[0m \u001b[0mj\u001b[0m \u001b[1;32min\u001b[0m \u001b[0mrange\u001b[0m\u001b[1;33m(\u001b[0m\u001b[0mi\u001b[0m\u001b[1;33m+\u001b[0m\u001b[1;36m1\u001b[0m\u001b[1;33m,\u001b[0m \u001b[0mlen\u001b[0m\u001b[1;33m(\u001b[0m\u001b[0mtrajectories\u001b[0m\u001b[1;33m)\u001b[0m\u001b[1;33m-\u001b[0m\u001b[1;36m1\u001b[0m\u001b[1;33m)\u001b[0m\u001b[1;33m:\u001b[0m\u001b[1;33m\u001b[0m\u001b[1;33m\u001b[0m\u001b[0m\n\u001b[1;32m----> 7\u001b[1;33m             \u001b[0mscore\u001b[0m\u001b[1;33m,\u001b[0m \u001b[0mexpectedScore\u001b[0m \u001b[1;33m=\u001b[0m \u001b[0mEDR\u001b[0m\u001b[1;33m(\u001b[0m\u001b[0mtrajectories\u001b[0m\u001b[1;33m[\u001b[0m\u001b[0mi\u001b[0m\u001b[1;33m]\u001b[0m\u001b[1;33m,\u001b[0m \u001b[0mtrajectories\u001b[0m\u001b[1;33m[\u001b[0m\u001b[0mj\u001b[0m\u001b[1;33m]\u001b[0m\u001b[1;33m,\u001b[0m \u001b[0mmt\u001b[0m\u001b[1;33m,\u001b[0m \u001b[0mms\u001b[0m\u001b[1;33m,\u001b[0m \u001b[0mgap\u001b[0m\u001b[1;33m)\u001b[0m\u001b[1;33m\u001b[0m\u001b[1;33m\u001b[0m\u001b[0m\n\u001b[0m\u001b[0;32m      8\u001b[0m             \u001b[0mexpectedScore_score_set\u001b[0m\u001b[1;33m.\u001b[0m\u001b[0mappend\u001b[0m\u001b[1;33m(\u001b[0m\u001b[1;33m(\u001b[0m\u001b[0mexpectedScore\u001b[0m\u001b[1;33m,\u001b[0m\u001b[0mscore\u001b[0m\u001b[1;33m)\u001b[0m\u001b[1;33m)\u001b[0m\u001b[1;33m\u001b[0m\u001b[1;33m\u001b[0m\u001b[0m\n\u001b[0;32m      9\u001b[0m \u001b[1;33m\u001b[0m\u001b[0m\n",
      "\u001b[1;31mMemoryError\u001b[0m: "
     ]
    }
   ],
   "source": [
    "monday3 = EDR_all(traj_dict3, 1, 5, -3, -2)\n",
    "tuesday3 = EDR_all(traj_dict3, 2, 5, -3, -2)\n",
    "wednesday3 = EDR_all(traj_dict3, 3, 5, -3, -2)\n",
    "thursday3 = EDR_all(traj_dict3, 4, 5, -3, -2)\n",
    "friday3 = EDR_all(traj_dict3, 5, 5, -3, -2)\n",
    "saturday3 = EDR_all(traj_dict3, 6, 5, -3, -2)\n",
    "sunday3 = EDR_all(traj_dict3, 7, 5, -3, -2)"
   ]
  },
  {
   "cell_type": "code",
   "execution_count": null,
   "metadata": {},
   "outputs": [],
   "source": [
    "monday3 = EDR_all(traj_dict3, 1, 5, -3, -2)\n",
    "exp_score_vs_score(monday3)"
   ]
  },
  {
   "cell_type": "code",
   "execution_count": null,
   "metadata": {},
   "outputs": [],
   "source": [
    "tuesday3 = EDR_all(traj_dict3, 2, 5, -3, -2)\n",
    "exp_score_vs_score(tuesday3)"
   ]
  },
  {
   "cell_type": "code",
   "execution_count": null,
   "metadata": {},
   "outputs": [],
   "source": [
    "wednesday3 = EDR_all(traj_dict3, 3, 5, -3, -2)\n",
    "exp_score_vs_score(wednesday3)"
   ]
  },
  {
   "cell_type": "code",
   "execution_count": null,
   "metadata": {},
   "outputs": [],
   "source": [
    "thursday3 = EDR_all(traj_dict3, 4, 5, -3, -2)\n",
    "exp_score_vs_score(thursday3)"
   ]
  },
  {
   "cell_type": "code",
   "execution_count": null,
   "metadata": {},
   "outputs": [],
   "source": [
    "friday3 = EDR_all(traj_dict3, 5, 5, -3, -2)\n",
    "exp_score_vs_score(friday3)"
   ]
  },
  {
   "cell_type": "code",
   "execution_count": null,
   "metadata": {},
   "outputs": [],
   "source": [
    "saturday3 = EDR_all(traj_dict3, 6, 5, -3, -2)\n",
    "exp_score_vs_score(saturday3)"
   ]
  },
  {
   "cell_type": "code",
   "execution_count": null,
   "metadata": {},
   "outputs": [],
   "source": [
    "sunday3 = EDR_all(traj_dict3, 7, 5, -3, -2)\n",
    "exp_score_vs_score(sunday3)"
   ]
  },
  {
   "cell_type": "code",
   "execution_count": null,
   "metadata": {},
   "outputs": [],
   "source": [
    "monday4 = EDR_all(traj_dict4, 1, 5, -3, -2)\n",
    "tuesday4 = EDR_all(traj_dict4, 2, 5, -3, -2)\n",
    "wednesday4 = EDR_all(traj_dict4, 3, 5, -3, -2)\n",
    "thursday4 = EDR_all(traj_dict4, 4, 5, -3, -2)\n",
    "friday4 = EDR_all(traj_dict4, 5, 5, -3, -2)\n",
    "saturday4 = EDR_all(traj_dict4, 6, 5, -3, -2)\n",
    "sunday4 = EDR_all(traj_dict4, 7, 5, -3, -2)"
   ]
  },
  {
   "cell_type": "code",
   "execution_count": null,
   "metadata": {},
   "outputs": [],
   "source": [
    "monday5 = EDR_all(traj_dict5, 1, 5, -3, -2)\n",
    "tuesday5 = EDR_all(traj_dict5, 2, 5, -3, -2)\n",
    "wednesday5 = EDR_all(traj_dict5, 3, 5, -3, -2)\n",
    "thursday5 = EDR_all(traj_dict5, 4, 5, -3, -2)\n",
    "friday5 = EDR_all(traj_dict5, 5, 5, -3, -2)\n",
    "saturday5 = EDR_all(traj_dict5, 6, 5, -3, -2)\n",
    "sunday5 = EDR_all(traj_dict5, 7, 5, -3, -2)"
   ]
  },
  {
   "cell_type": "code",
   "execution_count": null,
   "metadata": {},
   "outputs": [],
   "source": [
    "# draw scatter plot of one person one day\n",
    "def scatter(x,y,title,plotout):\n",
    "    plt.scatter(x,y)\n",
    "    plt.title(title)\n",
    "    plt.xlabel('Duration')\n",
    "    plt.ylabel('Score')\n",
    "    plt.savefig(plotout)"
   ]
  },
  {
   "cell_type": "code",
   "execution_count": null,
   "metadata": {},
   "outputs": [],
   "source": [
    "def slope_intercept(x1, y1, x2, y2):\n",
    "    a = (y2 - y1) / (x2 - x1)\n",
    "    b = y1 - a * x1     \n",
    "    return a,b"
   ]
  },
  {
   "cell_type": "code",
   "execution_count": null,
   "metadata": {},
   "outputs": [],
   "source": [
    "def one_slope_intercept(data):\n",
    "#     first = (float('inf'),float('inf'))\n",
    "#     last = (1,0)\n",
    "#     for duration, score in data:\n",
    "#         if duration < first[0]:\n",
    "#             first = duration, score\n",
    "#         if score/duration > last[1]/last[0]:\n",
    "#             last = duration, score\n",
    "#     print(first,last)\n",
    "#     slope, intercept= slope_intercept(first[0], first[1], last[0], last[1])\n",
    "    new_data = [(d[0],d[1]/d[0]) for d in data if d[0] > 0 and d[1] > 0]\n",
    "    unzipped_data = list(zip(*new_data))\n",
    "    x,y = np.asarray(unzipped_data)\n",
    "    plt.plot(x, y, 'o', label='original data')\n",
    "#     plt.plot(x, intercept + slope*x, 'r', label='simulated line')\n",
    "    plt.legend()\n",
    "    plt.show()\n",
    "#     print(\"slope: %f    intersect: %f\" %(slope, intercept))\n",
    "#     return slope, intercept"
   ]
  },
  {
   "cell_type": "code",
   "execution_count": null,
   "metadata": {},
   "outputs": [],
   "source": [
    "one_slope_intercept(monday0)"
   ]
  },
  {
   "cell_type": "code",
   "execution_count": null,
   "metadata": {},
   "outputs": [],
   "source": [
    "one_slope_intercept(tuesday0)"
   ]
  },
  {
   "cell_type": "code",
   "execution_count": null,
   "metadata": {},
   "outputs": [],
   "source": [
    "one_slope_intercept(wednesday0)"
   ]
  },
  {
   "cell_type": "code",
   "execution_count": null,
   "metadata": {},
   "outputs": [],
   "source": [
    "one_slope_intercept(thursday0)"
   ]
  },
  {
   "cell_type": "code",
   "execution_count": null,
   "metadata": {},
   "outputs": [],
   "source": [
    "one_slope_intercept(friday0)"
   ]
  },
  {
   "cell_type": "code",
   "execution_count": null,
   "metadata": {},
   "outputs": [],
   "source": [
    "one_slope_intercept(saturday0)"
   ]
  },
  {
   "cell_type": "code",
   "execution_count": null,
   "metadata": {},
   "outputs": [],
   "source": [
    "one_slope_intercept(sunday0)"
   ]
  },
  {
   "cell_type": "code",
   "execution_count": null,
   "metadata": {},
   "outputs": [],
   "source": [
    "def calculate_one_slope(data):\n",
    "#     data.sort(key=lambda pair: pair[0])\n",
    "    cleaned_data = [d for d in data[:-(5* (len(data) // 10))] if d[0] != 0 and d[1] != 0]\n",
    "    unzipped_data = list(zip(*cleaned_data))\n",
    "    x,y = np.asarray(unzipped_data)\n",
    "    slope, intercept, r_value, p_value, std_err = stats.linregress(x, y)\n",
    "    plt.plot(x, y, 'o', label='original data')\n",
    "    plt.plot(x, intercept + slope*x, 'r', label='fitted line')\n",
    "    plt.legend()\n",
    "    plt.show()\n",
    "    print(\"slope: %f    intercept: %f    r_value: %f\" % (slope, intercept, r_value))\n",
    "    return slope,intercept"
   ]
  },
  {
   "cell_type": "code",
   "execution_count": null,
   "metadata": {},
   "outputs": [],
   "source": [
    "calculate_one_slope(monday0)"
   ]
  },
  {
   "cell_type": "code",
   "execution_count": null,
   "metadata": {},
   "outputs": [],
   "source": [
    "def determine_slope_one_person(traj_dict):\n",
    "    result = 0\n",
    "    for i in range(1, 8):\n",
    "        result+=calculate_one_slope(EDR_all(traj_dict, i, 5, -3, -2))\n",
    "    return result/7"
   ]
  },
  {
   "cell_type": "code",
   "execution_count": null,
   "metadata": {},
   "outputs": [],
   "source": [
    "def determine_slope():\n",
    "    directory = \"../Data/DataByPerson\"\n",
    "    considered = 0\n",
    "    slope = 0\n",
    "    d_slope = float('inf')\n",
    "    for f in os.listdir(directory):\n",
    "        if d_slope >= 0.05:\n",
    "            fname = directory + \"/\" + f\n",
    "            traj_dict = trajectory_by_day(fname)\n",
    "            new_slope = determine_slope_one_person(traj_dict)\n",
    "            new_average = (slope * considered + new_slope)/(considered+1)\n",
    "            considered+=1\n",
    "            d_slope = abs(new_average-slope)\n",
    "            slope = new_average\n",
    "            print(new_slope)\n",
    "            print(f, new_average ,d_slope)\n",
    "        else:\n",
    "            break\n",
    "    return slope      "
   ]
  },
  {
   "cell_type": "code",
   "execution_count": null,
   "metadata": {},
   "outputs": [],
   "source": [
    "determine_slope()"
   ]
  },
  {
   "cell_type": "code",
   "execution_count": null,
   "metadata": {},
   "outputs": [],
   "source": []
  }
 ],
 "metadata": {
  "kernelspec": {
   "display_name": "Python 3",
   "language": "python",
   "name": "python3"
  },
  "language_info": {
   "codemirror_mode": {
    "name": "ipython",
    "version": 3
   },
   "file_extension": ".py",
   "mimetype": "text/x-python",
   "name": "python",
   "nbconvert_exporter": "python",
   "pygments_lexer": "ipython3",
   "version": "3.7.4"
  }
 },
 "nbformat": 4,
 "nbformat_minor": 2
}
